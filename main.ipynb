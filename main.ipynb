{
 "cells": [
  {
   "cell_type": "code",
   "execution_count": 5,
   "metadata": {},
   "outputs": [],
   "source": [
    "import pandas\n",
    "import requests\n",
    "import selenium\n",
    "from bs4 import BeautifulSoup\n",
    "from selenium.webdriver.common.keys import Keys\n",
    "import time\n",
    "from selenium import webdriver"
   ]
  },
  {
   "cell_type": "code",
   "execution_count": 6,
   "metadata": {},
   "outputs": [
    {
     "name": "stderr",
     "output_type": "stream",
     "text": [
      "C:\\Users\\Saulo\\AppData\\Local\\Temp\\ipykernel_604\\2299942496.py:6: DeprecationWarning: executable_path has been deprecated, please pass in a Service object\n",
      "  driver = webdriver.Chrome(executable_path=driver_path)\n"
     ]
    },
    {
     "ename": "AttributeError",
     "evalue": "'WebDriver' object has no attribute 'find_element_by_xpath'",
     "output_type": "error",
     "traceback": [
      "\u001b[1;31m---------------------------------------------------------------------------\u001b[0m",
      "\u001b[1;31mAttributeError\u001b[0m                            Traceback (most recent call last)",
      "\u001b[1;32mc:\\Users\\Saulo\\Documents\\GitHub\\scrape-zap\\main.ipynb Cell 2'\u001b[0m in \u001b[0;36m<cell line: 15>\u001b[1;34m()\u001b[0m\n\u001b[0;32m     <a href='vscode-notebook-cell:/c%3A/Users/Saulo/Documents/GitHub/scrape-zap/main.ipynb#ch0000001?line=12'>13</a>\u001b[0m \u001b[39m# Opening zap url\u001b[39;00m\n\u001b[0;32m     <a href='vscode-notebook-cell:/c%3A/Users/Saulo/Documents/GitHub/scrape-zap/main.ipynb#ch0000001?line=13'>14</a>\u001b[0m driver\u001b[39m.\u001b[39mget(url)\n\u001b[1;32m---> <a href='vscode-notebook-cell:/c%3A/Users/Saulo/Documents/GitHub/scrape-zap/main.ipynb#ch0000001?line=14'>15</a>\u001b[0m driver\u001b[39m.\u001b[39;49mfind_element_by_xpath(\u001b[39mf\u001b[39m\u001b[39m'\u001b[39m\u001b[39m/html/body/main/section[1]/div[2]/div[3]/section/div/div\u001b[39m\u001b[39m{\u001b[39;00mxpath_number\u001b[39m}\u001b[39;00m\u001b[39m/div/div[1]/div[2]\u001b[39m\u001b[39m'\u001b[39m)\u001b[39m.\u001b[39mclick()\n",
      "\u001b[1;31mAttributeError\u001b[0m: 'WebDriver' object has no attribute 'find_element_by_xpath'"
     ]
    }
   ],
   "source": [
    "page_number = 1\n",
    "url = f'https://www.zapimoveis.com.br/venda/?pagina={page_number}&transacao=Venda&tipo=Im%C3%B3vel%20usado'\n",
    "\n",
    "# Open browser\n",
    "driver_path = \"chromedriver.exe\"\n",
    "driver = webdriver.Chrome(executable_path=driver_path)\n",
    "\n",
    "# Maximizing browser window to avoid hidden elements\n",
    "driver.set_window_size(1024, 600)\n",
    "driver.maximize_window()\n",
    "\n",
    "xpath_number = 1\n",
    "# Opening zap url\n",
    "driver.get(url)\n",
    "driver.find_element_by_xpath\n",
    "\n",
    "(f'/html/body/main/section[1]/div[2]/div[3]/section/div/div{xpath_number}/div/div[1]/div[2]').click()\n"
   ]
  },
  {
   "cell_type": "code",
   "execution_count": null,
   "metadata": {},
   "outputs": [],
   "source": [
    "xpath_number = 1\n",
    "# Opening zap url\n",
    "driver.get(url)\n",
    "driver.find_element_by_xpath(f'/html/body/main/section[1]/div[2]/div[3]/section/div/div{xpath_number}/div/div[1]/div[2]').click()"
   ]
  },
  {
   "cell_type": "code",
   "execution_count": null,
   "metadata": {},
   "outputs": [],
   "source": [
    "/html/body/main/section[1]/div[2]/div[3]/section/div/div[1]/div/div[1]/div[2]\n",
    "/html/body/main/section[1]/div[2]/div[3]/section/div/div[24]/div/div[1]/div[2]"
   ]
  }
 ],
 "metadata": {
  "kernelspec": {
   "display_name": "Python 3.9.13 64-bit",
   "language": "python",
   "name": "python3"
  },
  "language_info": {
   "codemirror_mode": {
    "name": "ipython",
    "version": 3
   },
   "file_extension": ".py",
   "mimetype": "text/x-python",
   "name": "python",
   "nbconvert_exporter": "python",
   "pygments_lexer": "ipython3",
   "version": "3.9.13"
  },
  "orig_nbformat": 4,
  "vscode": {
   "interpreter": {
    "hash": "39c5207e0ce1341ad898502cc592606dcf3036f0772b83709aba2273e6498e4a"
   }
  }
 },
 "nbformat": 4,
 "nbformat_minor": 2
}
